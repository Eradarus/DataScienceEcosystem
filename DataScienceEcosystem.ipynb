{
 "cells": [
  {
   "cell_type": "markdown",
   "id": "4819dd49-9c33-48b8-a43d-cbdfde586983",
   "metadata": {},
   "source": [
    "# Data Science Tools and Ecosystem"
   ]
  },
  {
   "cell_type": "markdown",
   "id": "f354bb9d-ca06-43ef-9b9a-684c05884b12",
   "metadata": {},
   "source": [
    "In this notebook, Data Science Tools and Ecosystem are summarized."
   ]
  },
  {
   "cell_type": "markdown",
   "id": "e32d8530-65e1-4d32-bae7-966b9953622d",
   "metadata": {},
   "source": [
    "**Objectives:**\n",
    "\n",
    "- List some of the popular languages that data scientists use\n",
    "- List some of the commonly used libraries used by data scientists\n",
    "- Create a table showing some common data science tools"
   ]
  },
  {
   "cell_type": "markdown",
   "id": "37ff8d74-3e6b-43c1-a379-45c95a706114",
   "metadata": {},
   "source": [
    "Some of the popular languages that Data Scientists use are:\n",
    "1. Python\n",
    "2. R\n",
    "3. SQL\n",
    "4. Julia"
   ]
  },
  {
   "cell_type": "markdown",
   "id": "270bd389-bb51-441e-8e2b-4b8a4eaf503c",
   "metadata": {
    "tags": []
   },
   "source": [
    "Some of the commonly used libraries used by Data Scientists include:\n",
    "- NumPy\n",
    "- TensorFlow\n",
    "- SciPy\n",
    "- Pandas\n",
    "- Matplotlib"
   ]
  },
  {
   "cell_type": "markdown",
   "id": "32de333d-a96f-4558-ad57-c71ea909ba79",
   "metadata": {
    "tags": []
   },
   "source": [
    "|Data Science Tools|\n",
    "|----|\n",
    "|Apache Spark|\n",
    "|KNIME|\n",
    "|Keras|\n",
    "|Scikit Learn|"
   ]
  },
  {
   "cell_type": "markdown",
   "id": "3579d73e-b06b-44bf-863c-a0702202bf15",
   "metadata": {},
   "source": [
    "### Below are a few examples of evaluating arithmetic expressions in Python"
   ]
  },
  {
   "cell_type": "code",
   "execution_count": 3,
   "id": "f4065089-8d12-407e-9718-b10b0eb2715a",
   "metadata": {
    "tags": []
   },
   "outputs": [
    {
     "data": {
      "text/plain": [
       "17"
      ]
     },
     "execution_count": 3,
     "metadata": {},
     "output_type": "execute_result"
    }
   ],
   "source": [
    "# This a simple arithmetic expression to mutiply then add integers\n",
    "\n",
    "(3*4)+5"
   ]
  },
  {
   "cell_type": "code",
   "execution_count": 4,
   "id": "2b9312eb-b9d6-47ee-a654-828b2d8b1ac1",
   "metadata": {
    "tags": []
   },
   "outputs": [
    {
     "data": {
      "text/plain": [
       "3.3333333333333335"
      ]
     },
     "execution_count": 4,
     "metadata": {},
     "output_type": "execute_result"
    }
   ],
   "source": [
    "# This will convert 200 minutes to hours by diving by 60\n",
    "\n",
    "200/60"
   ]
  },
  {
   "cell_type": "markdown",
   "id": "c367b26e-67e8-4e53-9542-f21e4dd4f871",
   "metadata": {},
   "source": [
    "## Author\n",
    "Joseph Montoya"
   ]
  },
  {
   "cell_type": "code",
   "execution_count": null,
   "id": "5b560daa-365a-4494-b5e9-5eba905ff1d9",
   "metadata": {},
   "outputs": [],
   "source": []
  }
 ],
 "metadata": {
  "kernelspec": {
   "display_name": "Python",
   "language": "python",
   "name": "conda-env-python-py"
  },
  "language_info": {
   "codemirror_mode": {
    "name": "ipython",
    "version": 3
   },
   "file_extension": ".py",
   "mimetype": "text/x-python",
   "name": "python",
   "nbconvert_exporter": "python",
   "pygments_lexer": "ipython3",
   "version": "3.7.12"
  }
 },
 "nbformat": 4,
 "nbformat_minor": 5
}
